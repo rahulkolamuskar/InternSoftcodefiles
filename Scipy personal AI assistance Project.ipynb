{
 "cells": [
  {
   "cell_type": "code",
   "execution_count": null,
   "id": "dd8aad0d",
   "metadata": {},
   "outputs": [],
   "source": [
    "#IMPORTING BUILT IN LIBRARIES\n",
    "import os\n",
    "import subprocess\n",
    "import time\n",
    "import json"
   ]
  },
  {
   "cell_type": "code",
   "execution_count": null,
   "id": "6b2fa415",
   "metadata": {},
   "outputs": [],
   "source": [
    "#IMPORTING LIBRARIES INSTALLED FROM ANACONDA PROMPT\n",
    "import webbrowser\n",
    "import wikipedia\n",
    "import datetime\n",
    "import wolframalpha\n",
    "import requests"
   ]
  },
  {
   "cell_type": "code",
   "execution_count": null,
   "id": "dadf64f2",
   "metadata": {},
   "outputs": [],
   "source": [
    "#IMPORTING LIBRARIES FOR NATURAL LANGUAGE PROCESSING AND SPEECH TO TEXT CONVERSION\n",
    "import speech_recognition as sr\n",
    "import pyttsx3"
   ]
  },
  {
   "cell_type": "code",
   "execution_count": null,
   "id": "245186ba",
   "metadata": {},
   "outputs": [],
   "source": [
    "print('LOADING YOUR PERSONAL AI ASSISTANCE JARVIS')"
   ]
  },
  {
   "cell_type": "code",
   "execution_count": null,
   "id": "e7d59611",
   "metadata": {},
   "outputs": [],
   "source": [
    "#INITIATING THE PYTTSX3 WIHT SPEECH SYSTHESIZER\n",
    "engine=pyttsx3.init('sapi5')\n",
    "voices=engine.getProperty('voices')\n",
    "engine.setProperty('voice','voices[0].id')"
   ]
  },
  {
   "cell_type": "code",
   "execution_count": null,
   "id": "479386ab",
   "metadata": {},
   "outputs": [],
   "source": [
    "#DEFINING A FUNCTION FOR SPEAKING A SENTENCE\n",
    "def speak(text):\n",
    "    engine.say(text)\n",
    "    engine.runAndWait()"
   ]
  },
  {
   "cell_type": "code",
   "execution_count": null,
   "id": "111d805c",
   "metadata": {},
   "outputs": [],
   "source": [
    "#DEFINING A FUNCTION TO WISH THE USER\n",
    "def wishMe():\n",
    "    hour=datetime.datetime.now().hour\n",
    "    if hour>=0 and hour <12:\n",
    "        speak(\"Hello,Rahul Good morning\")\n",
    "        print(\"Hello, Rahul Good moring\")\n",
    "    elif hour>=12 and hour<18:\n",
    "        speak(\"Hello,Good evening Mr.Rahul\")\n",
    "        print(\"Hello, Good enevivg Mr.Rahul\")\n",
    "    else:\n",
    "        speak(\"Its already night time better go to sleep\")\n",
    "        print(\"Its already night time better go to sleep\")"
   ]
  },
  {
   "cell_type": "code",
   "execution_count": null,
   "id": "6de858f6",
   "metadata": {},
   "outputs": [],
   "source": [
    "#DEFINING THE FUNCTION TO TAKE THE COMMANDS FROM THE USER\n",
    "def takeCommand():\n",
    "    r=sr.Recognizer()\n",
    "    with sr.Microphone() as source:\n",
    "        print(\"I am listening\")\n",
    "        audio=r.listen(source)\n",
    "    \n",
    "        try:\n",
    "            statement.recognize_google(audio,language='en-in')\n",
    "            print(f\"user said:{statement}\\n\")\n",
    "        except Exception as e:\n",
    "            speak(\"Pardon me say that again\")\n",
    "            return \"None\"\n",
    "        return statement"
   ]
  },
  {
   "cell_type": "code",
   "execution_count": null,
   "id": "29f8c453",
   "metadata": {},
   "outputs": [],
   "source": [
    "speak('LOADING YOUR PERSONAL AI ASSISTANCE JARVIS')\n",
    "wishMe()"
   ]
  },
  {
   "cell_type": "code",
   "execution_count": null,
   "id": "107235fa",
   "metadata": {},
   "outputs": [],
   "source": [
    "#MAIN PART OF THE PROGRAM.\n",
    "if __name__=='__main__':\n",
    "    while True:\n",
    "        speak(\"How can i help you?\")\n",
    "        statement=takeCommand().lower()\n",
    "        if statement==0:\n",
    "            continue\n",
    "        if 'good by' in statement or 'ok stop' in statement or 'ok bye' in statement:\n",
    "            speak(\"Your persoinal Ai assistance Jarvis is setting down \")\n",
    "            break\n",
    "        elif \"open youtube\" in statement:\n",
    "            webbrowser.open_new_tab(\"https://www.youtube.com\")\n",
    "            speak(\"youtube is opened for you\")\n",
    "            time.sleep(4)\n",
    "        elif \"open google\" in statement:\n",
    "            webbrowser.open_new_tab(\"https://www.google.com\")\n",
    "            speak(\"google is opened for you\")\n",
    "            time.sleep(4)\n",
    "        elif \"wikipedia\" in statement:\n",
    "            speak(\"searching wikipedia .......\")\n",
    "            statement=statement.replace(\"wikipedia\",\" \")\n",
    "            results=wikipedia.summary(statement,sentences=5)\n",
    "            speak(\"According to wikipedia\")\n",
    "            speak(results)\n",
    "            print(s=results)\n",
    "        elif 'open gmail' in statement:\n",
    "            webbrowser.open_new_tab(\"gmail.com\")\n",
    "            speak(\"gmail is opened for you\")\n",
    "            time.sleep(5)\n",
    "        elif \"weather\" in statement:\n",
    "            api_key=\"8ef61edcf1c576d65d836254e11ea420\"\n",
    "            base_url=\"https://api.openweathermap.org/data/2.5/weather?\"\n",
    "            speak(\"what is the city name\")\n",
    "            city_name=takeCommand()\n",
    "            complete_urbase_url+'appid= '+api_key+\"&q=\"+city_name\n",
    "            response=requests.get(complete_url)\n",
    "            x=response.json()\n",
    "            if x['cod'] !=\"404\":\n",
    "                y=x['main']\n",
    "                current_temp=y['temp']\n",
    "                current_humidity=y['humidity']\n",
    "                z=x['wether']\n",
    "                weather_description=z[0]['description']\n",
    "                speak(\"Temperature in kelvin is\"+str(current_temp)+\"\\n humidity inpercentage is\"+str(current_humidity)+'weather description'+str(weather_description))\n",
    "                print(\"Temperature in kelvin is\"+str(current_temp)+\"\\n humidity inpercentage is\"+str(current_humidity)+'weather description'+str(weather_description))\n",
    "            else:\n",
    "                speak(\"city not found\")\n",
    "                print(\"city not found\")\n",
    "        elif \"time\" in statement:\n",
    "            current_Time=datetime.datetime.now().strftime(\"%H:%M:%S\")\n",
    "            speak(f\"the time is:{current_Time}\")\n",
    "            time.sleep(1)\n",
    "        elif 'who are you' in statement or 'what you can do' in statement:\n",
    "            speak(\"I am JARVIS version 1 point 0. I am programmed to perform small task like opening youtube, google chrome, gmail, predict weather,in different cities,stack overflow,get top headline news from times of india,search wikipedia and i can answer computational and geographical questions too! too!\")\n",
    "        elif 'who made you' in statement or 'who discovered you'  in statement or 'who created you' in statement:\n",
    "            speak('I was built by Mr. Rahul')\n",
    "            print(\"I was built by Mr. Rahul\")\n",
    "        elif  'open stackoverflow' in statement:\n",
    "            webbrowser.open_new_tab(\"https://www.stackoverflow.com/login\")\n",
    "            time.sleep(5)\n",
    "        elif 'search' in statement:\n",
    "            statemet=statement.replace('search',\" \")\n",
    "            webbrowser.open_new_tab(statement)\n",
    "            time.sleep(5)\n",
    "        elif 'news' in statement:\n",
    "            news=webbrowser.open_new_tab(\"https://www.timesofindia.indiatimes.com/home/headlines\")\n",
    "            speak(\"here are headline from the times of india\")\n",
    "            time.sleep(7)\n",
    "        elif 'ask' in statement:\n",
    "            speak(\"Of course, you can ask any questions you'd like, and I'll do my best to provide you with accurate and helpful answers. What would you like to know or discuss? i even answer computational and geographical answers too!\")\n",
    "            questions=takeCommand()\n",
    "            api_key=\"R2K75H-7ELALH35X\"\n",
    "            client=wolframalpha.Client(\"R2K75H-7ELALH35X\")\n",
    "            res=client.query(question)\n",
    "            answer=next(res.results).text\n",
    "            speak(answer)\n",
    "            print(answer)\n",
    "        elif 'logoff' in statement or 'signout' in statement or 'shut down' in statement:\n",
    "            speak(\"Ok, Your PC will get shut down in 10 seconds make sure all the applications are closed\")\n",
    "            subprocess.call(['shutdown',\"/1\"])\n",
    "time.sleep()"
   ]
  },
  {
   "cell_type": "code",
   "execution_count": null,
   "id": "2a3d24db",
   "metadata": {},
   "outputs": [],
   "source": []
  }
 ],
 "metadata": {
  "kernelspec": {
   "display_name": "Python 3 (ipykernel)",
   "language": "python",
   "name": "python3"
  },
  "language_info": {
   "codemirror_mode": {
    "name": "ipython",
    "version": 3
   },
   "file_extension": ".py",
   "mimetype": "text/x-python",
   "name": "python",
   "nbconvert_exporter": "python",
   "pygments_lexer": "ipython3",
   "version": "3.11.4"
  }
 },
 "nbformat": 4,
 "nbformat_minor": 5
}
